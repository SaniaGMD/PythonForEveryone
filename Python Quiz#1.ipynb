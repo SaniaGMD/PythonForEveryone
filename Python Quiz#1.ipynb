{
 "cells": [
  {
   "cell_type": "markdown",
   "id": "60f95b8e",
   "metadata": {},
   "source": [
    "# Quiz 1"
   ]
  },
  {
   "cell_type": "markdown",
   "id": "b4e0af2f",
   "metadata": {},
   "source": [
    "### Q1"
   ]
  },
  {
   "cell_type": "markdown",
   "id": "7c151c1c",
   "metadata": {},
   "source": [
    "Q#1 (5) \n",
    "We have a string \"I am studying hard to learn AI and BD\" and we want to make a new string from this one.\n",
    "The new string should look like \"studying learn and\"\n"
   ]
  },
  {
   "cell_type": "code",
   "execution_count": 1,
   "id": "f7c5cc53",
   "metadata": {},
   "outputs": [
    {
     "name": "stdout",
     "output_type": "stream",
     "text": [
      "The new string is: studying learn and\n"
     ]
    }
   ],
   "source": [
    "#method 1 : by slicing\n",
    "s = \"I am studying hard to learn AI and BD\"\n",
    "new_s= s[5:13] +\" \" + s[22:27] +\" \" + s[31:34] \n",
    "print(\"The new string is:\", new_s)"
   ]
  },
  {
   "cell_type": "code",
   "execution_count": 2,
   "id": "4a86041a",
   "metadata": {},
   "outputs": [
    {
     "name": "stdout",
     "output_type": "stream",
     "text": [
      "The new string is: studying learn and\n"
     ]
    }
   ],
   "source": [
    "#method 2\n",
    "def Convert(string):\n",
    "    li = list(string.split(\" \"))\n",
    "    return li\n",
    "\n",
    "s = \"I am studying hard to learn AI and BD\"\n",
    "list_s= Convert(s)\n",
    "new_string= list_s[2]+ \" \" + list_s[5]+ \" \"+ list_s[7]\n",
    "print(\"The new string is:\", new_string)"
   ]
  },
  {
   "cell_type": "markdown",
   "id": "c5fa3425",
   "metadata": {},
   "source": [
    "### Q2"
   ]
  },
  {
   "cell_type": "markdown",
   "id": "df32b3f1",
   "metadata": {},
   "source": [
    "Write a program that takes input from user in kilograms and convert it into pounds. The formula for conversion is \n",
    "pound = kg * 2.2046"
   ]
  },
  {
   "cell_type": "code",
   "execution_count": 7,
   "id": "d9cf680d",
   "metadata": {},
   "outputs": [
    {
     "name": "stdout",
     "output_type": "stream",
     "text": [
      "Enter weight in Kilograms: 23\n",
      "Weight in pounds is:  50.7058\n"
     ]
    }
   ],
   "source": [
    "kg= float(input(\"Enter weight in Kilograms: \"))\n",
    "pound = pound = kg * 2.2046\n",
    "print(\"Weight in pounds is: \", pound)"
   ]
  },
  {
   "cell_type": "markdown",
   "id": "3b5db8ce",
   "metadata": {},
   "source": [
    "### Q3"
   ]
  },
  {
   "cell_type": "markdown",
   "id": "d01dc1cd",
   "metadata": {},
   "source": [
    "Q#3 (5) \n",
    "Write a program that takes marks as input from the user. If the entered marks are greater than 50, \n",
    "a message saying \"Passed\" is shown to the user otherwise, a message saying \"Failed\" is shown."
   ]
  },
  {
   "cell_type": "code",
   "execution_count": null,
   "id": "c4cf37a5",
   "metadata": {},
   "outputs": [],
   "source": [
    "marks= int(input(\"Enter your marks: \"))\n",
    "if marks > 50:\n",
    "    print (\"Passed\")\n",
    "else:\n",
    "    print(\"Failed\")"
   ]
  },
  {
   "cell_type": "markdown",
   "id": "0f89d99e",
   "metadata": {},
   "source": [
    "### Q4"
   ]
  },
  {
   "cell_type": "markdown",
   "id": "1b94972a",
   "metadata": {},
   "source": [
    "Q#4 (5) \n",
    "A recruitment activity is taking place at a company. The physical requirements include weight between 50kg and 100kg, \n",
    "BMI more than 10 but less than 20, and height more than 5 feet.\n",
    "The company needs a software solution to automate the selection process. When user enters details, the software responds \n",
    "with either \"selected\" or \"not selected\".\n",
    "Company wants to select those who fulfill the above mentioned criteria but if someone with weight exceeding the limit, \n",
    "or BMI exceeding the mentioned limit applies and the person is married, he/she gets selected. Similarly if height is less\n",
    "than the requirement and the applicant is married, he/she gets selected.\n"
   ]
  },
  {
   "cell_type": "code",
   "execution_count": 11,
   "id": "714c434f",
   "metadata": {},
   "outputs": [
    {
     "name": "stdout",
     "output_type": "stream",
     "text": [
      "*********Enter your Details please*********\n",
      "Your Weight: 65\n",
      "Your BMI: 14\n",
      "Your Height: 7\n",
      "Married(Press 1), Unmarried (Press 0) : 0\n",
      "            ---------------------------             \n",
      "         Congratulations, you're Selected\n",
      "            ---------------------------             \n"
     ]
    }
   ],
   "source": [
    "print(\"*********Enter your Details please*********\")\n",
    "weight= float(input(\"Your Weight: \"))\n",
    "BMI= float(input(\"Your BMI: \"))\n",
    "height= float(input(\"Your Height: \"))\n",
    "marrital_status = input(\"Married(Press 1), Unmarried (Press 0) : \")\n",
    "\n",
    "if (weight>50 and weight<100) and (BMI>10 and BMI<20) and (height>5):\n",
    "    print(\"            ---------------------------             \")\n",
    "    print(\"         Congratulations, you're Selected\")\n",
    "    print(\"            ---------------------------             \")\n",
    "elif marrital_status == '1':\n",
    "    if (weight>50 and weight<100) or (BMI>10 and BMI<20) or (height<=5 or height >=5):\n",
    "        print(\"            ---------------------------             \")\n",
    "        print(\"         Congratulations, you're Selected\")\n",
    "        print(\"            ---------------------------             \")\n",
    "else:\n",
    "    print(\"            ---------------------------             \")\n",
    "    print(\"           Sorry, you're not eligible\")\n",
    "    print(\"            ---------------------------             \")"
   ]
  },
  {
   "cell_type": "markdown",
   "id": "308ecc4a",
   "metadata": {},
   "source": [
    "### Q5"
   ]
  },
  {
   "cell_type": "markdown",
   "id": "a78a5af0",
   "metadata": {},
   "source": [
    "Q#5 (5) \n",
    "Here is a list of names: ['Abdullah', 'Tayyaba', 'Waheed', 'Fatima', 'Basim', 'Hira']\n",
    "Write a program that goes over this list and separates the names of males and females in two different lists and \n",
    "after getting done with them, shows the lists on screen.\n",
    "Hint: There is a pattern to these names. Find the pattern and use % operator\n"
   ]
  },
  {
   "cell_type": "code",
   "execution_count": 12,
   "id": "da8f7dac",
   "metadata": {},
   "outputs": [
    {
     "name": "stdout",
     "output_type": "stream",
     "text": [
      "Male data_list:  ['Abdullah', 'Waheed', 'Basim']\n",
      "Female data_list:  ['Tayyaba', 'Fatima', 'Hira']\n"
     ]
    }
   ],
   "source": [
    "data = ['Abdullah', 'Tayyaba', 'Waheed', 'Fatima', 'Basim', 'Hira'] \n",
    "female= []\n",
    "male= []\n",
    "for i in range(len(data)):\n",
    "    if i%2==0:\n",
    "        male.append(data[i])\n",
    "    else:\n",
    "        female.append(data[i])\n",
    "\n",
    "print(\"Male data_list: \", male )\n",
    "print(\"Female data_list: \", female )"
   ]
  },
  {
   "cell_type": "markdown",
   "id": "590994fc",
   "metadata": {},
   "source": [
    "### Q6"
   ]
  },
  {
   "cell_type": "markdown",
   "id": "8e3198d0",
   "metadata": {},
   "source": [
    "Q#6 (10) \n",
    "We have a set of strings {\"hasan\", \"ahmad\", \"bilal\", \"goreyo\", \"tokeyo\", \"multan\", \"fatima\", \"yasmin\"}.\n",
    "We want to group such strings into a separate list and show that have equal number of characters in them.\n",
    "Also we want to show the number of similar length strings on the screen with their length.\n",
    "Example output may look like this:\n",
    "3 strings of length 9 are found\n",
    "The strings are: \n",
    "[ a list of such strings ]"
   ]
  },
  {
   "cell_type": "code",
   "execution_count": 46,
   "id": "f2e2e96c",
   "metadata": {
    "scrolled": true
   },
   "outputs": [
    {
     "name": "stdout",
     "output_type": "stream",
     "text": [
      "Length of strings having 4 charaters is:  0 []\n",
      "Length of strings having 5 charaters is:  3 ['hasan', 'bilal', 'ahmad']\n",
      "Length of strings having 6 charaters is:  5 ['fatima', 'tokeyo', 'yasmin', 'goreyo', 'multan']\n",
      "Length of strings having 7 charaters is:  0 []\n"
     ]
    }
   ],
   "source": [
    "data= {\"hasan\", \"ahmad\", \"bilal\", \"goreyo\", \"tokeyo\", \"multan\", \"fatima\", \"yasmin\"}\n",
    "str_len3=[]\n",
    "str_len4=[]\n",
    "str_len5=[]\n",
    "3str_len6=[]\n",
    "str_len7=[]\n",
    "\n",
    "for i in data:\n",
    "    if len(i)== 3:\n",
    "        str_len3.append(i)\n",
    "    elif len(i)==4:\n",
    "        str_len4.append(i)\n",
    "    elif len(i)==5:\n",
    "        str_len5.append(i)\n",
    "    elif len(i)==6:\n",
    "        str_len6.append(i)\n",
    "    elif len(i)==7:\n",
    "        str_len7.append(i)\n",
    "    else:\n",
    "        pass\n",
    "print(\"Length of strings having 4 charaters is: \", len(str_len4), str_len4) \n",
    "print(\"Length of strings having 5 charaters is: \", len(str_len5), str_len5) \n",
    "print(\"Length of strings having 6 charaters is: \", len(str_len6), str_len6) \n",
    "print(\"Length of strings having 7 charaters is: \", len(str_len7), str_len7) \n",
    "\n"
   ]
  },
  {
   "cell_type": "markdown",
   "id": "937129f7",
   "metadata": {},
   "source": [
    "### Q7"
   ]
  },
  {
   "cell_type": "markdown",
   "id": "e8ef52a4",
   "metadata": {},
   "source": [
    "\n",
    "Make a program that takes roll-numbers of students alongwith their marks in 3 subjects: Urdu, English, and Python \n",
    "    and saves their details in a file. Then it reads the files and let the user know about the marks of the student \n",
    "    in a particular subject against the provided roll-number."
   ]
  },
  {
   "cell_type": "code",
   "execution_count": null,
   "id": "9b6c9283",
   "metadata": {},
   "outputs": [
    {
     "name": "stdout",
     "output_type": "stream",
     "text": [
      "(Enter Marks- Press 1) - (Retrive Marks - Press 2) - ('quit' for exit) : 2\n",
      "Enter the roll no to retrieve data: 504\n",
      "Enter the subject to retrieve marks: eng\n",
      "-----------------------------------------------------\n",
      "Marks of Roll no 504 :  {'urdu': 45, 'eng': 34, 'python': 23}\n",
      "Marks in the particular subject is:  34\n",
      "-----------------------------------------------------\n"
     ]
    }
   ],
   "source": [
    "while True:\n",
    "    option =input(\"(Enter Marks- Press 1) - (Retrive Marks - Press 2) - ('quit' for exit) : \")\n",
    "    if option== '1':\n",
    "        rollno= int(input(\"Enter your Roll number: \"))\n",
    "        print(\"Enter your marks in the following subjects: \")\n",
    "        urdu= int(input(\"Urdu: \"))\n",
    "        eng= int(input(\"English: \"))\n",
    "        python= int(input(\"Pyhton: \"))\n",
    "\n",
    "        marks= {rollno : {'urdu': urdu, 'eng': eng, 'python': python}}\n",
    "\n",
    "        file = open('marksheet.txt','a')\n",
    "        file.write(str(marks)+\"\\n\")\n",
    "        file.close()\n",
    "\n",
    "    elif option== '2':\n",
    "        file = open('marksheet.txt','r')\n",
    "        record = []\n",
    "        for marks_data in file.readlines():\n",
    "            marks_data = eval(marks_data)\n",
    "            record.append(marks_data)\n",
    "                \n",
    "        entered_no= int(input(\"Enter the roll no to retrieve data: \"))\n",
    "        particular_sub = input(\"Enter the subject to retrieve marks: \") \n",
    "        for marks in record:\n",
    "            if entered_no in marks.keys():\n",
    "                print(\"-----------------------------------------------------\")\n",
    "                print(\"Marks of Roll no\",entered_no,\": \", marks[entered_no] )\n",
    "                print(\"Marks in the particular subject is: \", marks[entered_no][particular_sub])\n",
    "                print(\"-----------------------------------------------------\")\n",
    "            file.close()\n",
    "\n",
    "\n",
    "    elif option== 'quit':\n",
    "        print(\"Quit! Thank you\")\n",
    "        break\n",
    "\n",
    "    else:\n",
    "        print(\"Give input in the given constraints\")"
   ]
  }
 ],
 "metadata": {
  "kernelspec": {
   "display_name": "Python 3 (ipykernel)",
   "language": "python",
   "name": "python3"
  },
  "language_info": {
   "codemirror_mode": {
    "name": "ipython",
    "version": 3
   },
   "file_extension": ".py",
   "mimetype": "text/x-python",
   "name": "python",
   "nbconvert_exporter": "python",
   "pygments_lexer": "ipython3",
   "version": "3.9.7"
  }
 },
 "nbformat": 4,
 "nbformat_minor": 5
}
