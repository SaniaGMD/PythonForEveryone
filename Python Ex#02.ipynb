{
 "cells": [
  {
   "cell_type": "markdown",
   "metadata": {},
   "source": [
    "# Control Structures"
   ]
  },
  {
   "cell_type": "markdown",
   "metadata": {},
   "source": [
    "### Assignment # 02"
   ]
  },
  {
   "cell_type": "markdown",
   "metadata": {},
   "source": [
    "### Q1"
   ]
  },
  {
   "cell_type": "code",
   "execution_count": null,
   "metadata": {
    "cocalc": {
     "outputs": {
      "0": {
       "name": "input",
       "opts": {
        "password": false,
        "prompt": "Enter any number:  "
       },
       "output_type": "stream",
       "value": "0"
      }
     }
    }
   },
   "outputs": [],
   "source": [
    "while True:\n",
    "    num= input(\"Enter any number:  \")\n",
    "    if num =='done':\n",
    "          print(\"Thank You!\")\n",
    "          break\n",
    "    num = int(num)\n",
    "    if(num<0):\n",
    "        print(\"Number is negative\")\n",
    "    elif (num > 0):\n",
    "        print(\"Number is postive\")\n",
    "    else:\n",
    "        print(\"Number is Zero\")"
   ]
  },
  {
   "cell_type": "markdown",
   "metadata": {},
   "source": [
    "### Q2"
   ]
  },
  {
   "cell_type": "code",
   "execution_count": null,
   "metadata": {
    "cocalc": {
     "outputs": {
      "0": {
       "name": "input",
       "opts": {
        "password": false,
        "prompt": "Enter any number:  "
       },
       "output_type": "stream",
       "value": "98"
      }
     }
    }
   },
   "outputs": [],
   "source": [
    "num= int(input(\"Enter any number:  \"))\n",
    "if(num % 2 == 0):\n",
    "    print(\"Number is EVEN\")\n",
    "else:\n",
    "    print(\"Number is ODD\")"
   ]
  },
  {
   "cell_type": "markdown",
   "metadata": {},
   "source": [
    "### Q3"
   ]
  },
  {
   "cell_type": "code",
   "execution_count": null,
   "metadata": {
    "cocalc": {
     "outputs": {
      "0": {
       "name": "input",
       "opts": {
        "password": false,
        "prompt": "Enter the number for sequence: "
       },
       "output_type": "stream",
       "value": "10"
      }
     }
    }
   },
   "outputs": [],
   "source": [
    "num= int(input(\"Enter the number for sequence: \"))\n",
    "\n",
    "even = []\n",
    "odd = []\n",
    "\n",
    "for i in range(num):\n",
    "    if(i % 2 == 0):\n",
    "        print(i, \" is even\")\n",
    "        even.append(i)\n",
    "    else:\n",
    "        print(i, \" is odd\")\n",
    "        odd.append(i)\n",
    "\n",
    "print(\"Even list: \", even)\n",
    "print(\"Odd list: \", odd)\n"
   ]
  },
  {
   "cell_type": "markdown",
   "metadata": {},
   "source": [
    "### Q4"
   ]
  },
  {
   "cell_type": "code",
   "execution_count": null,
   "metadata": {
    "cocalc": {
     "outputs": {
      "0": {
       "name": "input",
       "opts": {
        "password": false,
        "prompt": "Enter any Character:  "
       },
       "output_type": "stream",
       "value": "$"
      }
     }
    }
   },
   "outputs": [],
   "source": [
    "num= input(\"Enter any Character:  \")\n",
    "if(num>='0' and num<='9'):\n",
    "    print(\"Character is a Number\")\n",
    "elif (num>= 'a' and num<= 'z' or num>= 'A' and num<= 'Z' ):\n",
    "    print(\"Character is an Alphabet\")\n",
    "else:\n",
    "    print(\"Character is a Speacial character\")"
   ]
  },
  {
   "cell_type": "markdown",
   "metadata": {},
   "source": [
    "### Q5"
   ]
  },
  {
   "cell_type": "code",
   "execution_count": null,
   "metadata": {
    "cocalc": {
     "outputs": {
      "0": {
       "name": "input",
       "opts": {
        "password": false,
        "prompt": "Enter any Character:  "
       },
       "output_type": "stream",
       "value": "e"
      }
     }
    }
   },
   "outputs": [],
   "source": [
    "num= input(\"Enter any Character:  \")\n",
    "if(num=='a' or num=='e' or num=='i' or num=='o' or num=='u' or num=='A' or num=='E' or num=='I' or num=='O' or num=='U' ):\n",
    "    print(\"Character is a Vowel\")\n",
    "else:\n",
    "    print(\"Character is a Consonent\")"
   ]
  },
  {
   "cell_type": "markdown",
   "metadata": {},
   "source": [
    "### Q6"
   ]
  },
  {
   "cell_type": "code",
   "execution_count": null,
   "metadata": {},
   "outputs": [],
   "source": [
    "str1 = input(\"Enter a string:  \")\n",
    "str1 = str1.lower()\n",
    "vowels=0\n",
    "consonants=0\n",
    "v = ['a', 'e', 'i', 'o', 'u']\n",
    "for i in str1:\n",
    "    if i in v:\n",
    "        vowels+=1\n",
    "    else:\n",
    "        if i != ' ':\n",
    "            consonants+=1\n",
    "print(\"Vowels are: \", vowels)\n",
    "print(\"Consonants are: \", consonants)"
   ]
  },
  {
   "cell_type": "markdown",
   "metadata": {},
   "source": [
    "### Q7"
   ]
  },
  {
   "cell_type": "code",
   "execution_count": null,
   "metadata": {},
   "outputs": [],
   "source": [
    "from sympy import *\n",
    "\n",
    "num= int(input(\"Enter a number:  \"))\n",
    "n=isprime(num)\n",
    "if n==True:\n",
    "    print(\"Number is Prime\")\n",
    "else:\n",
    "    print(\"Number is not Prime\")\n",
    "    "
   ]
  },
  {
   "cell_type": "markdown",
   "metadata": {},
   "source": [
    "### Q8"
   ]
  },
  {
   "cell_type": "code",
   "execution_count": null,
   "metadata": {
    "cocalc": {
     "outputs": {
      "0": {
       "name": "input",
       "opts": {
        "password": false,
        "prompt": "Enter the number for sequence: "
       },
       "output_type": "stream",
       "value": "20"
      }
     }
    }
   },
   "outputs": [],
   "source": [
    "from sympy import *\n",
    "num= int(input(\"Enter the number for sequence: \"))\n",
    "print(\"Prime numbers: \")\n",
    "for i in range(num):\n",
    "    n=isprime(i)\n",
    "    if n==True:\n",
    "        print(i)\n",
    "    \n",
    "    "
   ]
  },
  {
   "cell_type": "markdown",
   "metadata": {},
   "source": [
    "### Q9"
   ]
  },
  {
   "cell_type": "code",
   "execution_count": null,
   "metadata": {
    "cocalc": {
     "outputs": {
      "0": {
       "name": "input",
       "opts": {
        "password": false,
        "prompt": "Enter year to check for leap:  "
       },
       "output_type": "stream",
       "value": "2006"
      }
     }
    }
   },
   "outputs": [],
   "source": [
    "num= int(input(\"Enter year to check for leap:  \"))\n",
    "if(num % 4 == 0):\n",
    "    print( num,\"is a leap year.\")\n",
    "else:\n",
    "    print( num,\"is not a leap year.\")"
   ]
  },
  {
   "cell_type": "markdown",
   "metadata": {},
   "source": [
    "### Q10"
   ]
  },
  {
   "cell_type": "code",
   "execution_count": null,
   "metadata": {},
   "outputs": [],
   "source": [
    "str1= input(\"Enter the string to check for pallindrome:  \")\n",
    "flag=0\n",
    "l=-1\n",
    "rev1 =  list(reversed(str1))\n",
    "print(rev1)\n",
    "str1= list(str1)\n",
    "print(str1)\n",
    "for i in range(len(rev1)):\n",
    "    l+=1\n",
    "    if (str1[l] == rev1[l]):\n",
    "        flag=1\n",
    "    else:\n",
    "        flag=0\n",
    "        break\n",
    "if (flag==1):\n",
    "    print(\"Yes, it's a pallindrome.\")\n",
    "else:\n",
    "    print(\"No, it's not a pallindrome.\")\n",
    "        "
   ]
  },
  {
   "cell_type": "markdown",
   "metadata": {},
   "source": [
    "### Q11"
   ]
  },
  {
   "cell_type": "code",
   "execution_count": null,
   "metadata": {
    "cocalc": {
     "outputs": {
      "0": {
       "name": "input",
       "opts": {
        "password": false,
        "prompt": "Enter the number for factorial:  "
       },
       "output_type": "stream",
       "value": "5"
      }
     }
    }
   },
   "outputs": [],
   "source": [
    "num = int(input(\"Enter the number for factorial:  \"))\n",
    "fact=1\n",
    "l=1\n",
    "for i in range(num-1):\n",
    "    fact = fact +  (fact * l)\n",
    "    l += 1\n",
    "print(\"Factorial of \", num, \"is \", fact)\n"
   ]
  },
  {
   "cell_type": "markdown",
   "metadata": {},
   "source": [
    "### Q12"
   ]
  },
  {
   "cell_type": "code",
   "execution_count": null,
   "metadata": {},
   "outputs": [],
   "source": [
    "while True:\n",
    "    n = input(\"Enter a Number: \")\n",
    "    if ( n == \"done\"):\n",
    "        break \n",
    "            \n",
    "    l = []\n",
    "    for i in range(0,int(n)):\n",
    "        if (i<2):\n",
    "            l.append(i)\n",
    "        else:\n",
    "            l.append(l[i-2] + l[i-1])\n",
    "    print(l)"
   ]
  },
  {
   "cell_type": "markdown",
   "metadata": {},
   "source": [
    "### Q13"
   ]
  },
  {
   "cell_type": "code",
   "execution_count": null,
   "metadata": {},
   "outputs": [],
   "source": [
    "#A for marks>=80, \n",
    "#B for marks>=60, \n",
    "#C for marks>=40 and \n",
    "#D otherwise.\n",
    "\n",
    "marks= int(input(\"Enter your marks: \"))\n",
    "if marks>=80:\n",
    "    print(\"Your grade is 'A'\")\n",
    "elif marks>=60 and marks<80:\n",
    "    print(\"Your grade is 'B'\")\n",
    "elif marks>=40 and marks<60:\n",
    "    print(\"Your grade is 'C'\")\n",
    "else:\n",
    "    print(\"Your grade is 'D'\")\n"
   ]
  },
  {
   "cell_type": "markdown",
   "metadata": {},
   "source": [
    "### Q14"
   ]
  },
  {
   "cell_type": "code",
   "execution_count": 3,
   "metadata": {},
   "outputs": [
    {
     "name": "stdout",
     "output_type": "stream",
     "text": [
      "Please enter a Point having three axis: 12,24,0\n",
      "12  lies on x-axis\n",
      "24  lies on y-axis\n",
      "0  lies on z-axis\n"
     ]
    }
   ],
   "source": [
    "point = input(\"Please enter a Point having three axis: \")\n",
    "values = point.split(\",\")\n",
    "for axis_index in range(len(values)):\n",
    "    axis_value = values[axis_index]\n",
    "  \n",
    "    if axis_index==0:\n",
    "        print(axis_value, \" lies on x-axis\")\n",
    "    elif axis_index==1:\n",
    "        print(axis_value, \" lies on y-axis\")\n",
    "    else:\n",
    "        print(axis_value, \" lies on z-axis\")"
   ]
  },
  {
   "cell_type": "markdown",
   "metadata": {},
   "source": [
    "### Q15"
   ]
  },
  {
   "cell_type": "code",
   "execution_count": null,
   "metadata": {},
   "outputs": [],
   "source": [
    "import math\n",
    "x1= int(input(\"Enter x1:\"))\n",
    "y1= int(input(\"Enter y1:\"))\n",
    "x2= int(input(\"Enter x2:\"))\n",
    "y2= int(input(\"Enter y2:\"))\n",
    "d = ((x1-x2)**2)+((y1-y2)**2)\n",
    "d = math.sqrt(d)\n",
    "print(\"Distance between two points is: \", d)"
   ]
  },
  {
   "cell_type": "markdown",
   "metadata": {},
   "source": [
    "### Q16"
   ]
  },
  {
   "cell_type": "code",
   "execution_count": null,
   "metadata": {},
   "outputs": [],
   "source": [
    "l1=int(input(\"Enter length 1: \"))\n",
    "l2=int(input(\"Enter length 2: \"))\n",
    "l3=int(input(\"Enter length 3: \"))\n",
    "if(l1==l2 and l2==l3):\n",
    "    print(\"Equiliteral Triangle\")\n",
    "elif (l1==l2 or l1==l3 or l2==l3):\n",
    "    print(\"Isosceles  Triangle\")\n",
    "else:\n",
    "    print(\"Scalene Triangle \")"
   ]
  },
  {
   "cell_type": "markdown",
   "metadata": {},
   "source": [
    "### Q17"
   ]
  },
  {
   "cell_type": "code",
   "execution_count": null,
   "metadata": {},
   "outputs": [],
   "source": [
    "sum_=0\n",
    "count=0\n",
    "while True:\n",
    "    num= input(\"Enter the number: \")\n",
    "    \n",
    "    if num=='done':\n",
    "        print(\"thank you\")\n",
    "        print(sum_)\n",
    "        print(count)\n",
    "        if sum_!=0:\n",
    "            print(sum_/count)\n",
    "        break\n",
    "        \n",
    "    elif not (num=='done' or num.isdigit()):\n",
    "        print(\"please enter either a number or done.\")\n",
    "        continue\n",
    "        \n",
    "    else:\n",
    "        num = int(num)\n",
    "        sum_ = sum_ + num\n",
    "        count+=1\n"
   ]
  }
 ],
 "metadata": {
  "kernelspec": {
   "display_name": "Python 3 (ipykernel)",
   "language": "python",
   "name": "python3"
  },
  "language_info": {
   "codemirror_mode": {
    "name": "ipython",
    "version": 3
   },
   "file_extension": ".py",
   "mimetype": "text/x-python",
   "name": "python",
   "nbconvert_exporter": "python",
   "pygments_lexer": "ipython3",
   "version": "3.9.7"
  }
 },
 "nbformat": 4,
 "nbformat_minor": 4
}
