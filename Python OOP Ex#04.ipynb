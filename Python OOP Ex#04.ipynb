{
 "cells": [
  {
   "cell_type": "code",
   "execution_count": null,
   "id": "eece2777",
   "metadata": {},
   "outputs": [],
   "source": [
    "# Assignmnet 4"
   ]
  },
  {
   "cell_type": "markdown",
   "id": "bf748d3e",
   "metadata": {},
   "source": [
    "### Activity 1"
   ]
  },
  {
   "cell_type": "markdown",
   "id": "a34df1ff",
   "metadata": {},
   "source": [
    "### Class 1"
   ]
  },
  {
   "cell_type": "code",
   "execution_count": 68,
   "id": "93a5d0d0",
   "metadata": {},
   "outputs": [],
   "source": [
    "class Employee:\n",
    "    def __init__(self, name1, ID1, address1, salaray1):\n",
    "        self.name=name1\n",
    "        self.ID= ID1\n",
    "        self. address= address1\n",
    "        self.salaray= salaray1\n",
    "        \n",
    "    def printdata(self):\n",
    "        print(\"Name: \", self.name)\n",
    "        print(\"ID: \", self.ID)\n",
    "        print(\"Address: \", self.address)\n",
    "        if self.salaray > 70000:\n",
    "            print(\"Your Salaray is: \", self.salaray)\n",
    "            print(\"Congratulations!!! you're eligible for Bonus\")\n",
    "        else:\n",
    "            print(\"Sorry, not eligible for Bonus\")\n"
   ]
  },
  {
   "cell_type": "code",
   "execution_count": 69,
   "id": "14e160fb",
   "metadata": {},
   "outputs": [
    {
     "name": "stdout",
     "output_type": "stream",
     "text": [
      "Name:  Sania\n",
      "ID:  123\n",
      "Address:  Lahore\n",
      "Sorry, not eligible for Bonus\n",
      "    ---------------    \n",
      "Name:  Sadia\n",
      "ID:  456\n",
      "Address:  Islamabad\n",
      "Your Salaray is:  100000\n",
      "Congratulations!!! you're eligible for Bonus\n"
     ]
    }
   ],
   "source": [
    "E1 = Employee('Sania', 123, 'Lahore', 50000)\n",
    "E2 = Employee('Sadia', 456, 'Islamabad', 100000)\n",
    "E1.printdata()\n",
    "print(\"    ---------------    \")\n",
    "E2.printdata()"
   ]
  },
  {
   "cell_type": "markdown",
   "id": "1d95edb8",
   "metadata": {},
   "source": [
    "### Class 2"
   ]
  },
  {
   "cell_type": "code",
   "execution_count": 70,
   "id": "9d5e2c1c",
   "metadata": {},
   "outputs": [],
   "source": [
    "class BinaryCal:\n",
    "    def __init__(self, num1, num2):\n",
    "        self.num1= num1\n",
    "        self.num2= num2\n",
    "    \n",
    "    def add_(self):\n",
    "        print(\"Sum:\", self.num1+self.num2)\n",
    "    \n",
    "    def sub_(self):\n",
    "        print (\"Difference:\",self.num2-self.num1)\n",
    "    \n",
    "    def pro_(self):\n",
    "        print(\"Product:\", self.num1*self.num2)\n",
    "\n",
    "    def showAll(self):\n",
    "        print(\"Sum:\", self.num1+self.num2)\n",
    "        print (\"Difference:\",self.num2-self.num1)\n",
    "        print(\"Product:\", self.num1*self.num2)"
   ]
  },
  {
   "cell_type": "code",
   "execution_count": 71,
   "id": "7af58ca6",
   "metadata": {},
   "outputs": [
    {
     "name": "stdout",
     "output_type": "stream",
     "text": [
      "Sum: 5\n",
      "---------------------------\n",
      "Sum: 68\n",
      "Difference: 22\n",
      "Product: 1035\n"
     ]
    }
   ],
   "source": [
    "cal= BinaryCal(2,3)\n",
    "cal.add_()\n",
    "print(\"---------------------------\")\n",
    "cal2= BinaryCal(23,45)\n",
    "cal2.showAll()"
   ]
  },
  {
   "cell_type": "markdown",
   "id": "bc7b1102",
   "metadata": {},
   "source": [
    "### Class 3"
   ]
  },
  {
   "cell_type": "code",
   "execution_count": 72,
   "id": "89ad7296",
   "metadata": {},
   "outputs": [],
   "source": [
    "class Address:\n",
    "    def __init__(self):\n",
    "        self.City = False\n",
    "        self.Area = False\n",
    "        self.House_no = False\n",
    "        self.Block_no = False\n",
    "       \n",
    "    def set_city(self, city):\n",
    "        self.City = city\n",
    "       \n",
    "    def set_area(self, area):\n",
    "        self.Area = area\n",
    "       \n",
    "    def set_house_no(self, house_no):\n",
    "        self.House_no = house_no\n",
    "       \n",
    "    def set_block_no(self, block_no):\n",
    "        self.Block_no = block_no\n",
    "       \n",
    "    def get_city(self):\n",
    "        return self.City\n",
    "   \n",
    "    def get_area(self):\n",
    "        return self.Area\n",
    "   \n",
    "    def get_house_no(self):\n",
    "        return self.House_no\n",
    "   \n",
    "    def get_block_no(self):\n",
    "        return self.Block_no\n",
    "   \n",
    "class Employee(Address):\n",
    "    def __init__(self):\n",
    "        Address.__init__(self)\n",
    "        self.Emplyee_name = \"abc\"\n",
    "        self.Emplyee_no = 0\n",
    "        self.Salary = 0\n",
    "        self.Designation = \"xyz\"\n",
    "        self.Department =  \"None\"\n",
    "       \n",
    "    def set_emplyee_no(self,emplyee_no):\n",
    "        self.Emplyee_no = emplyee_no\n",
    "   \n",
    "    def set_emplyee_name(self,emplyee_name):\n",
    "        self.Emplyee_name = emplyee_name\n",
    "       \n",
    "    def set_salary(self,salary):\n",
    "        self.Salary = salary\n",
    "       \n",
    "    def set_designation(self,designation):\n",
    "        self.Designation = designation\n",
    "       \n",
    "    def set_department(self,department):\n",
    "        self.Department = department\n",
    "       \n",
    "    def get_emplyee_no(self):\n",
    "        return self.Emplyee_no\n",
    "   \n",
    "    def get_emplyee_name(self):\n",
    "        return self.Emplyee_name\n",
    "   \n",
    "    def get_salary(self):\n",
    "        return self.Salary\n",
    "   \n",
    "    def get_designation(self):\n",
    "        return self.Designation\n",
    "   \n",
    "    def get_department(self):\n",
    "        return self.Department\n",
    "       \n",
    "class Teacher(Employee):\n",
    "    def __init__(self):\n",
    "        Employee.__init__(self)\n",
    "        self.Qualification = \"Nothing\"\n",
    "       \n",
    "    def set_qualification(self,qualification):\n",
    "        self.Qualification = qualification\n",
    "       \n",
    "    def get_qualification(self):\n",
    "        return self.Qualification\n",
    "#city,area,house_no,block_no,emplyee_no,emplyee_name,salary,designation,department,qualification  \n",
    "    def show_details(self):\n",
    "       \n",
    "        print(\"Employee Details: \\n\")\n",
    "        print(\"Employee Name: \", self.Emplyee_name)\n",
    "        print(\"Employee Number: \", self.Emplyee_no)\n",
    "        print(\"Employee Designation: \", self.Designation)\n",
    "        print(self.Designation, \"Depatment: \", self.Department)\n",
    "        print(self.Designation, \"Qualification: \", self.Qualification)\n",
    "        print(self.Emplyee_name,\"Salary: \",self.Salary)\n",
    "        print(self.Emplyee_name, \"Address Details: \")\n",
    "        print(\"City: \", self.City)\n",
    "        print(\"Area: \",self.Area)\n",
    "        print(\"Block No: \",self.Block_no)\n",
    "        print(\"House No: \",self.House_no)\n",
    "   "
   ]
  },
  {
   "cell_type": "code",
   "execution_count": 75,
   "id": "95f92cc7",
   "metadata": {},
   "outputs": [
    {
     "name": "stdout",
     "output_type": "stream",
     "text": [
      "Details about teacher: \n",
      "\n",
      "Employee Details: \n",
      "\n",
      "Employee Name:  Rukhsana Kausar\n",
      "Employee Number:  1\n",
      "Employee Designation:  Assistant professor\n",
      "Assistant professor Depatment:  UET\n",
      "Assistant professor Qualification:  PHD in Pharmacy\n",
      "Rukhsana Kausar Salary:  120000\n",
      "Rukhsana Kausar Address Details: \n",
      "City:  Lahore\n",
      "Area:  Johar Town\n",
      "Block No:  G-4\n",
      "House No:  459\n"
     ]
    }
   ],
   "source": [
    "t1 = Teacher()\n",
    "print(\"Details about teacher: \\n\")\n",
    "t1.set_city(\"Lahore\")\n",
    "t1.set_area(\"Johar Town\")\n",
    "t1.set_block_no(\"G-4\")\n",
    "t1.set_house_no(\"459\")\n",
    "t1.set_department(\"UET\")\n",
    "t1.set_designation(\"Assistant professor\")\n",
    "t1.set_emplyee_name(\"Rukhsana Kausar\")\n",
    "t1.set_emplyee_no(1)\n",
    "t1.set_qualification(\"PHD in Pharmacy\")\n",
    "t1.set_salary(120000)\n",
    "t1.show_details()"
   ]
  },
  {
   "cell_type": "markdown",
   "id": "68ab68ab",
   "metadata": {},
   "source": [
    "### Class 4"
   ]
  },
  {
   "cell_type": "code",
   "execution_count": 76,
   "id": "a653b8d4",
   "metadata": {},
   "outputs": [],
   "source": [
    "class Ticketing_booth:\n",
    "    def __init__(self):\n",
    "        self.seats= 0\n",
    "        self.des= \" \"\n",
    "        self.bill= 0\n",
    "        self.data= data        \n",
    "    def calculate(self):\n",
    "        print(self.data.keys())\n",
    "        self.seats = int(input(\"Enter the number of seats: \"))\n",
    "        self.des= input(\"Enter your destination: \")\n",
    "      \n",
    "        if self.des in data.keys():\n",
    "            self.bill= (self.seats * self.data[self.des])\n",
    "  \n",
    "    def additional_swags(self):\n",
    "        ad= input(\"you can add: \\n Drinks - Snacks - SideDishes - Popcorns - None\\n Please enter: \")\n",
    "        if ad== 'Drinks':\n",
    "            self.bill+=1000\n",
    "        elif ad== 'Snacks':\n",
    "            self.bill+=1500\n",
    "        elif ad== 'SideDishes':\n",
    "            self.bill+=2500\n",
    "        elif ad== 'Popcorns':\n",
    "            self.bill+=1000\n",
    "        elif ad== 'None':\n",
    "            self.bill+=0\n",
    "        else:\n",
    "            print(\"wrong input\")\n",
    "        print(\"--------------------------\")\n",
    "        print(\"      Bill:  \", self.bill)\n",
    "        print(\"--------------------------\")"
   ]
  },
  {
   "cell_type": "code",
   "execution_count": 77,
   "id": "1dbf5efa",
   "metadata": {},
   "outputs": [
    {
     "name": "stdout",
     "output_type": "stream",
     "text": [
      "dict_keys(['Karachi', 'Lahore', 'Paris', 'Tokyo', 'London', 'Shenghai'])\n",
      "Enter the number of seats: 3\n",
      "Enter your destination: Lahore\n",
      "you can add: \n",
      " Drinks - Snacks - SideDishes - Popcorns - None\n",
      " Please enter: Snacks\n",
      "--------------------------\n",
      "      Bill:   121500\n",
      "--------------------------\n"
     ]
    }
   ],
   "source": [
    "data= {'Karachi': 50000, 'Lahore': 40000, 'Paris': 100000, 'Tokyo': 120000, 'London': 140000, 'Shenghai': 80000}\n",
    "t=Ticketing_booth()\n",
    "t.calculate()\n",
    "t.additional_swags()"
   ]
  },
  {
   "cell_type": "markdown",
   "id": "2a4608e2",
   "metadata": {},
   "source": [
    "### Class 5"
   ]
  },
  {
   "cell_type": "code",
   "execution_count": 6,
   "id": "e62a8685",
   "metadata": {},
   "outputs": [],
   "source": [
    "class bill:\n",
    "    \n",
    "    def __init__(self, item, quantity, list1):\n",
    "        self.item= item\n",
    "        self.quantity= quantity\n",
    "        self.price= 0\n",
    "        self.list1= list1    \n",
    "        \n",
    "    def calculate1(self):\n",
    "        self.item= input(\"Enter item name: \")\n",
    "        self.quantity= int(input(\"Enter the number of items: \"))\n",
    "        if self.item in list1.keys():\n",
    "            self.price = (self.quantity * self.list1[self.item])\n",
    "        print(\"Bill: \", self.price*self.quantity)"
   ]
  },
  {
   "cell_type": "code",
   "execution_count": 7,
   "id": "0590a42b",
   "metadata": {},
   "outputs": [
    {
     "name": "stdout",
     "output_type": "stream",
     "text": [
      "Enter item name: table\n",
      "Enter the number of items: 4\n",
      "Bill:  604032\n"
     ]
    }
   ],
   "source": [
    "list1 = { 'chair': 2365, 'table': 37752, 'sofa-set': 23299, 'tv-unit': 120344 , 'bed': 40226 }\n",
    "b= bill('a', 3, list1)\n",
    "b.calculate1()"
   ]
  },
  {
   "cell_type": "markdown",
   "id": "bab91720",
   "metadata": {},
   "source": [
    "### Class 6"
   ]
  },
  {
   "cell_type": "code",
   "execution_count": 8,
   "id": "24212192",
   "metadata": {},
   "outputs": [],
   "source": [
    "class Shape:\n",
    "    def __init__(self, h, w):\n",
    "        self.height= h\n",
    "        self.width= w\n",
    "        \n",
    "    def RecArea(self):\n",
    "        self.area= self.height * self.width\n",
    "        print(\"Area of Reactangle: \", self.area)\n",
    "        \n",
    "    def TriArea(self):\n",
    "        self.area= float((self.height* self.width)*0.5)\n",
    "        print(\"Area of Triangle: \", self.area)\n",
    "        \n",
    "    "
   ]
  },
  {
   "cell_type": "code",
   "execution_count": 9,
   "id": "472cfc6f",
   "metadata": {},
   "outputs": [
    {
     "name": "stdout",
     "output_type": "stream",
     "text": [
      "Area of Reactangle:  6\n",
      "------------------\n",
      "Area of Triangle:  858.0\n"
     ]
    }
   ],
   "source": [
    "s1= Shape(2,3)\n",
    "s1.RecArea()\n",
    "print(\"------------------\")\n",
    "s2= Shape(22,78)\n",
    "s2.TriArea()\n"
   ]
  },
  {
   "cell_type": "markdown",
   "id": "f0378fc6",
   "metadata": {},
   "source": [
    "# Activity 2"
   ]
  },
  {
   "cell_type": "markdown",
   "id": "fb068aa8",
   "metadata": {},
   "source": [
    "### Q1"
   ]
  },
  {
   "cell_type": "markdown",
   "id": "f4fcafce",
   "metadata": {},
   "source": [
    "Make a chain of classes, each one inheriting from the previous one as shown below.\n",
    "Cake -> CreamCake -> CherryCreamCake -> ChocolateCherryCreamCake\n",
    "Attributes of Cake: floor, egg, sugar, milk, sugar, baking soda, temperature, is_baked,\n",
    "Methods of Cake: beat_eggs_whites, mix, bake,"
   ]
  },
  {
   "cell_type": "code",
   "execution_count": 10,
   "id": "557581b2",
   "metadata": {},
   "outputs": [],
   "source": [
    "import time"
   ]
  },
  {
   "cell_type": "code",
   "execution_count": 14,
   "id": "68e0133c",
   "metadata": {},
   "outputs": [],
   "source": [
    "class Cake:\n",
    "    def __init__ (self,flour, egg, sugar, milk, baking_soda):\n",
    "        self.flour = flour\n",
    "        self.egg = egg\n",
    "        self.sugar = sugar\n",
    "        self.milk = milk \n",
    "        self.baking_soda = baking_soda\n",
    "        self.temperature = 25\n",
    "        self.mixed = False\n",
    "        self.foamy_whites = False\n",
    "        \n",
    "    def beat_eggs_whites(self):\n",
    "        for i in range(5):\n",
    "            print(\"beating egg whites\")\n",
    "            time.sleep(1)\n",
    "        print(\"egg-whites are foamy now\")\n",
    "        self.foamy_whites = True\n",
    "        \n",
    "    def mix(self):\n",
    "        self.mixed=True\n",
    "        print(\"Ingredients are mixed now\")\n",
    "         \n",
    "    def bake(self):\n",
    "        if self.mixed and self.foamy_whites:\n",
    "            while self.temperature<250:\n",
    "                print(self.temperature)\n",
    "                self.temperature+=25\n",
    "                time.sleep(1)\n",
    "\n",
    "        print(\"cake baked @: \", self.temperature)\n",
    "        \n",
    "        \n",
    "#----------------------------------------------\n",
    "        \n",
    "class CreamCake(Cake):\n",
    "    def __init__ (self,flour, egg, sugar, milk, baking_soda, cream):\n",
    "        super(CreamCake, self).__init__(flour, egg, sugar, milk, baking_soda)\n",
    "        self.cream = cream\n",
    "    def add_cream(self):\n",
    "        print(\"Cream is added\")\n",
    "    \n",
    "    def refrigerate(self):\n",
    "        while self.temperature>0:\n",
    "            print(self.temperature)\n",
    "            self.temperature-=5\n",
    "            time.sleep(1)\n",
    "\n",
    "        print(\"cake is frozen @: \", self.temperature)\n",
    "        \n",
    "        \n",
    "        \n",
    "#----------------------------------------------\n",
    "        \n",
    "class CherryCreamCake(CreamCake):\n",
    "    def __init__ (self,flour, egg, sugar, milk, baking_soda, cream, cherry):\n",
    "            super(CherryCreamCake, self). __init__(flour, egg, sugar, milk, baking_soda, cream)\n",
    "            self.cherry = cherry\n",
    "    def add_cherry(self):\n",
    "        print(\"Cherries arec added\")\n",
    "\n",
    "\n",
    "#----------------------------------------------\n",
    "\n",
    "class ChocolateCherryCreamCake(CherryCreamCake): \n",
    "    def __init__ (self,flour, egg, sugar, milk, baking_soda, cream, cherry, chocolate):\n",
    "            super(ChocolateCherryCreamCake, self). __init__(flour, egg, sugar, milk, baking_soda, cream, cherry)\n",
    "            self.chocolate = chocolate\n",
    "    def add_chocolate(self):\n",
    "        print(\"Chocolate is added\")"
   ]
  },
  {
   "cell_type": "code",
   "execution_count": 15,
   "id": "4d79bd35",
   "metadata": {
    "scrolled": true
   },
   "outputs": [
    {
     "name": "stdout",
     "output_type": "stream",
     "text": [
      "beating egg whites\n",
      "beating egg whites\n",
      "beating egg whites\n",
      "beating egg whites\n",
      "beating egg whites\n",
      "egg-whites are foamy now\n",
      "Ingredients are mixed now\n",
      "25\n",
      "50\n",
      "75\n",
      "100\n",
      "125\n",
      "150\n",
      "175\n",
      "200\n",
      "225\n",
      "cake baked @:  250\n",
      "Chocolate is added\n"
     ]
    }
   ],
   "source": [
    "# def __init__ (self,flour, egg, sugar, milk, baking_soda):\n",
    "c= ChocolateCherryCreamCake('2 cups', 3,'1 kg', '1 liter', '1 kg', '1 kg', '10', 20 )\n",
    "c.beat_eggs_whites()\n",
    "c.mix()\n",
    "c.bake()\n",
    "c.add_chocolate()"
   ]
  },
  {
   "cell_type": "code",
   "execution_count": 16,
   "id": "54a9b235",
   "metadata": {},
   "outputs": [
    {
     "name": "stdout",
     "output_type": "stream",
     "text": [
      "25\n",
      "20\n",
      "15\n",
      "10\n",
      "5\n",
      "cake is frozen @:  0\n"
     ]
    }
   ],
   "source": [
    "cr_c = CreamCake('2 cups', 3,'1 kg', '1 liter', '1 kg','nestle cream')\n",
    "cr_c.refrigerate()"
   ]
  },
  {
   "cell_type": "markdown",
   "id": "f7f422f5",
   "metadata": {},
   "source": [
    "### Q2"
   ]
  },
  {
   "cell_type": "markdown",
   "id": "bb569e4b",
   "metadata": {},
   "source": [
    "Make two chains of classes following the hierarchy mentioned below and make atleast 2 methods and some data-members \n",
    "of your choice for each class. \n",
    "Also, first make the UML diagram on the page before coding the scenario.\n",
    "Animal - > Herbivorous -> Cow -> SahiwalCow (Hint: sahiwal cow has hump on its back)\n",
    "Animal -> Carnivorous -> Shark -> BlueShark"
   ]
  },
  {
   "cell_type": "code",
   "execution_count": 17,
   "id": "8a974240",
   "metadata": {},
   "outputs": [],
   "source": [
    "class Animal:\n",
    "    def __init__ (self, color, height, weight):\n",
    "        self.color= color\n",
    "        self.height= height\n",
    "        self.weight= weight\n",
    "\n",
    "class Herbivorous(Animal):\n",
    "    def __init__ (self, color, height, weight, eat):\n",
    "        super(Herbivorous, self).__init__(color, height, weight)\n",
    "        self.eat= eat\n",
    "    def eat_(self):\n",
    "        print(\"Herbivorous eating Status: plants\")\n",
    "\n",
    "class Cow(Herbivorous):\n",
    "    def __init__ (self,color, height, weight, eat, milk ):\n",
    "        super(Cow, self).__init__(color, height, weight, eat)\n",
    "        self.milk = milk\n",
    "    def gives_milk(self):\n",
    "        print(\"Cow gives milk\")\n",
    "\n",
    "class SahiwalCow(Cow):\n",
    "    def __init__ (self,color, height, weight, eat, milk, cowType, hump ):\n",
    "        super(SahiwalCow, self).__init__(color, height, weight, eat, milk)\n",
    "        self.hump = hump\n",
    "        self.cowType= cowType\n",
    "    def print_characteristics(self):\n",
    "        print(\"Sahiwal cow has\", self.color, \"color\")\n",
    "        print(\"Sahiwal cow has one hump\")\n",
    "\n",
    "class Carnivorous(Animal):\n",
    "    def __init__ (self,color, height, weight):\n",
    "        super(Carnivorous, self).__init__(color, height, weight)\n",
    "        \n",
    "    def eat_(self):\n",
    "        print(\"Carnivorous only eat meat\")\n",
    "class Shark(Carnivorous):\n",
    "    def __init__ (self, color, height, weight):\n",
    "        super(Shark, self).__init__(color, height, weight)\n",
    "    def eat_(self):\n",
    "        print(\"Sharks only eat meat\")\n",
    "    def swim(self):\n",
    "        print(\"Sharks is swimming\")\n",
    "class Bluesharks(Shark):\n",
    "    def __init__ (self, color, height, weight):\n",
    "        super(Bluesharks, self).__init__(color, height, weight)"
   ]
  },
  {
   "cell_type": "code",
   "execution_count": 18,
   "id": "801ac4a7",
   "metadata": {},
   "outputs": [
    {
     "name": "stdout",
     "output_type": "stream",
     "text": [
      "Sahiwal cow has Black color\n",
      "Sahiwal cow has one hump\n",
      "Carnivorous only eat meat\n",
      "Sharks only eat meat\n",
      "Sharks only eat meat\n"
     ]
    }
   ],
   "source": [
    "sc= SahiwalCow('Black', 5, '70 kg', 'yes', 'Yes', 'Sahiwal', 1)\n",
    "sc.print_characteristics()\n",
    "\n",
    "c = Carnivorous('Black', 5, '70 kg')\n",
    "c.eat_()\n",
    "\n",
    "s=Shark('Blue', 5, '70 kg')\n",
    "s.eat_()\n",
    "\n",
    "s1= Bluesharks('Blue', 5, '70 kg')\n",
    "s1.eat_()"
   ]
  },
  {
   "cell_type": "markdown",
   "id": "2b75c8f9",
   "metadata": {},
   "source": [
    "### Q3"
   ]
  },
  {
   "cell_type": "markdown",
   "id": "00e10ddd",
   "metadata": {},
   "source": [
    "Make three classes as mentioned below and make atleast 2 methods and few data-members of your choice for each class.Also, \n",
    "first make the UML diagram on the page before coding the scenario. Understand the concepts of multiple inheritence and\n",
    "Method-Resolution-Order and how Super() keyword acts \n",
    "to resolve the issue.\n",
    "Animal -> Herbivorous -> Omnivorous\n",
    "Animal -> Carnivorous -> Omnivorous\n",
    "(Hint: Omnivorous is inheriting from both Herbi & Carnivorous)"
   ]
  },
  {
   "cell_type": "code",
   "execution_count": 19,
   "id": "e74ff954",
   "metadata": {},
   "outputs": [],
   "source": [
    "class Animal:\n",
    "    def __init__ (self, color, height, weight):\n",
    "        self.color= color\n",
    "        self.height= height\n",
    "        self.weight= weight\n",
    "\n",
    "class Herbivorous(Animal):\n",
    "    def __init__ (self, color, height, weight):\n",
    "        Animal.__init__(self, color, height, weight)\n",
    "    def eat_(self):\n",
    "        return \"grass\"\n",
    "    \n",
    "class Carnivorous(Animal):\n",
    "    def __init__ (self,color, height, weight):\n",
    "        Animal.__init__(self, color, height, weight)\n",
    "    def eat_(self):\n",
    "        return \"meat\"\n",
    "    \n",
    "class Omnivorous(Herbivorous, Carnivorous):\n",
    "    def __init__(self, color, height, weight):\n",
    "        Herbivorous.__init__(self, color, height, weight)\n",
    "        Carnivorous.__init__(self, color, weight, height)\n",
    "    \n",
    "    def eat_(self):\n",
    "        g = Herbivorous.eat_(self)\n",
    "        m = Carnivorous.eat_(self)\n",
    "        print(f\"Omni eats both {g} and {m}\")\n",
    "        \n",
    "    def print_characteristic(self):\n",
    "        print(\"height:\", self.height)\n",
    "        print(\"weight:\", self.weight)\n",
    "        print(\"color:\", self.color)\n",
    "        "
   ]
  },
  {
   "cell_type": "code",
   "execution_count": 40,
   "id": "78db70b6",
   "metadata": {},
   "outputs": [
    {
     "name": "stdout",
     "output_type": "stream",
     "text": [
      "Omni eats both grass and meat\n",
      "height: 70\n",
      "weight: 5ft\n",
      "color: Brown\n"
     ]
    }
   ],
   "source": [
    "o=Omnivorous('Brown', '5ft', 70)\n",
    "o.eat_()\n",
    "o.print_characteristic()"
   ]
  }
 ],
 "metadata": {
  "kernelspec": {
   "display_name": "Python 3 (ipykernel)",
   "language": "python",
   "name": "python3"
  },
  "language_info": {
   "codemirror_mode": {
    "name": "ipython",
    "version": 3
   },
   "file_extension": ".py",
   "mimetype": "text/x-python",
   "name": "python",
   "nbconvert_exporter": "python",
   "pygments_lexer": "ipython3",
   "version": "3.9.7"
  }
 },
 "nbformat": 4,
 "nbformat_minor": 5
}
