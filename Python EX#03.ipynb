{
 "cells": [
  {
   "cell_type": "markdown",
   "id": "a6f2bd87",
   "metadata": {},
   "source": [
    "# Funtions, File Handling & Exception handling"
   ]
  },
  {
   "cell_type": "markdown",
   "id": "32b53fb2",
   "metadata": {},
   "source": [
    "## Assignment 3"
   ]
  },
  {
   "cell_type": "markdown",
   "id": "94d03e13",
   "metadata": {},
   "source": [
    "### Q1"
   ]
  },
  {
   "cell_type": "code",
   "execution_count": null,
   "id": "f388d144",
   "metadata": {},
   "outputs": [],
   "source": [
    "def getaverage(my_list):\n",
    "    length= len(my_list)\n",
    "    sum_=0\n",
    "    avg=0\n",
    "    for i in range(length):\n",
    "        sum_= sum_ + my_list[i]\n",
    "    avg= sum_/length\n",
    "    return avg"
   ]
  },
  {
   "cell_type": "code",
   "execution_count": null,
   "id": "e0993441",
   "metadata": {},
   "outputs": [],
   "source": [
    "list1= [1,2,3,4,5,6,7,8,9]\n",
    "avg=getaverage(list1)\n",
    "print(avg)\n"
   ]
  },
  {
   "cell_type": "markdown",
   "id": "b4d5b6d7",
   "metadata": {},
   "source": [
    "### Q2"
   ]
  },
  {
   "cell_type": "code",
   "execution_count": 35,
   "id": "f809c21b",
   "metadata": {},
   "outputs": [],
   "source": [
    "def isIn(str_, substr):\n",
    "    \"\"\"\n",
    "        This function ......\n",
    "        args:\n",
    "            str_:\n",
    "            substr:\n",
    "        returns: .....\n",
    "    \"\"\"\n",
    "\n",
    "    length1= len(str_)\n",
    "    length2= len(substr)\n",
    "    for i in range(length1):\n",
    "        if str_[i] == substr[0]: # first match\n",
    "            print(str_[i])\n",
    "            print(i)\n",
    "            \n",
    "            j=1\n",
    "            for k in range(i+1, i+1+length2):\n",
    "                #print(k)\n",
    "                \n",
    "                if j<(length2) and k<(length1) and str_[k] == substr[j]:\n",
    "                    j = j + 1\n",
    "                   # print(str_[k])\n",
    "                    continue\n",
    "                \n",
    "                if j==length2:\n",
    "                    print(\"Matched\")\n",
    "                else:\n",
    "                    print(\"Not Matched\")\n",
    "                    break\n"
   ]
  },
  {
   "cell_type": "code",
   "execution_count": 36,
   "id": "6bca532b",
   "metadata": {},
   "outputs": [
    {
     "name": "stdout",
     "output_type": "stream",
     "text": [
      "s\n",
      "9\n",
      "Not Matched\n",
      "s\n",
      "11\n",
      "Matched\n"
     ]
    }
   ],
   "source": [
    "isIn(\"My name is sania\", \"sania\")"
   ]
  },
  {
   "cell_type": "markdown",
   "id": "0cee56ba",
   "metadata": {},
   "source": [
    "### Q3"
   ]
  },
  {
   "cell_type": "code",
   "execution_count": 16,
   "id": "fc390f55",
   "metadata": {},
   "outputs": [],
   "source": [
    "def getAverage(sum_, count):\n",
    "    average= sum_/count\n",
    "    return (\"Average is :\", average)\n",
    "    \n",
    "    "
   ]
  },
  {
   "cell_type": "code",
   "execution_count": 17,
   "id": "3b55d0bb",
   "metadata": {},
   "outputs": [
    {
     "data": {
      "text/plain": [
       "('Average is :', 9.0)"
      ]
     },
     "execution_count": 17,
     "metadata": {},
     "output_type": "execute_result"
    }
   ],
   "source": [
    "getAverage(count=5, sum_=45)"
   ]
  },
  {
   "cell_type": "markdown",
   "id": "a5aee243",
   "metadata": {},
   "source": [
    "### Q4"
   ]
  },
  {
   "cell_type": "code",
   "execution_count": 20,
   "id": "59fd8a79",
   "metadata": {},
   "outputs": [],
   "source": [
    "#nested functions\n",
    "def calculate(a,b,operation):\n",
    "    def sum_(a,b):\n",
    "        sum1= a+b\n",
    "        print (\"sum =\", sum1)\n",
    "\n",
    "    def diff_(a,b):\n",
    "        diff= a-b\n",
    "        print(\"difference =\", diff)\n",
    "\n",
    "    def pro_(a,b):\n",
    "        pro= a*b\n",
    "        print (\"product =\", pro)\n",
    "    \n",
    "    if operation=='+':  \n",
    "        return sum_(a,b)\n",
    "    if operation=='*':  \n",
    "        return pro_(a,b)\n",
    "    if operation=='-':  \n",
    "        return diff_(a,b)\n",
    "#calculate(a,b,operation)"
   ]
  },
  {
   "cell_type": "code",
   "execution_count": 21,
   "id": "19f29c7b",
   "metadata": {},
   "outputs": [
    {
     "name": "stdout",
     "output_type": "stream",
     "text": [
      "Enter 1st value: 23\n",
      "Enter 2nd value: 4\n",
      "Enter opeartion (+,-,*) :*\n",
      "--------------------------\n",
      "product = 92\n"
     ]
    }
   ],
   "source": [
    "a= int(input(\"Enter 1st value: \"))\n",
    "b= int(input(\"Enter 2nd value: \"))\n",
    "operation=input(\"Enter opeartion (+,-,*) :\")\n",
    "print(\"--------------------------\")\n",
    "calculate(a,b,operation)"
   ]
  },
  {
   "cell_type": "markdown",
   "id": "9e807737",
   "metadata": {},
   "source": [
    "### File Handling"
   ]
  },
  {
   "cell_type": "markdown",
   "id": "41a7542f",
   "metadata": {},
   "source": [
    "### Q1"
   ]
  },
  {
   "cell_type": "markdown",
   "id": "1c94ac73",
   "metadata": {},
   "source": [
    "Accept details of all your friends from standard input (e.g. Name, Date of\n",
    "birth, Hobbies, occupation, residence address) and store it in a binary file\n",
    "as individual records. Allow the user to list out all details of a friend, given\n",
    "his/her name."
   ]
  },
  {
   "cell_type": "code",
   "execution_count": null,
   "id": "09601365",
   "metadata": {},
   "outputs": [],
   "source": [
    "while True:\n",
    "    \n",
    "    choice = input('Press 1 for data entery and 2 for retrieval or done for quit')\n",
    "    if choice=='1':\n",
    "        name=input(\"Enter your name: \")\n",
    "        cnic=input(\"Enter cnic: \")\n",
    "        dob=input(\"Enter your DOB: \")\n",
    "        hobbies=input(\"Enter your hobbies: \")\n",
    "        occu=input(\"Enter your occupation: \")\n",
    "        address=input(\"Enter your residence address: \")\n",
    "\n",
    "        record = {cnic:{'name':name, 'dob':dob, 'hobbies':hobbies, 'occu':occu, 'address':address}}\n",
    "\n",
    "        file = open('data2.txt', 'a')\n",
    "        file.write(str(record)+\"\\n\")\n",
    "        file.close()\n",
    "        \n",
    "    elif choice == 'done':\n",
    "        break\n",
    "\n",
    "    elif choice=='2':\n",
    "        \n",
    "        with open('data2.txt', \"r\") as file:\n",
    "            data = []\n",
    "            for line in file.readlines():\n",
    "                line = eval(line)\n",
    "                data.append(line)\n",
    "            \n",
    "        entered_cnic = input(\"Enter cnic\")\n",
    "        for record in data:\n",
    "            if entered_cnic in record.keys():\n",
    "                print(record[entered_cnic])\n",
    "                break\n",
    "    \n",
    "    else:\n",
    "        print(\"Wrong input\")\n",
    "\n"
   ]
  },
  {
   "cell_type": "code",
   "execution_count": null,
   "id": "7ee13191",
   "metadata": {},
   "outputs": [],
   "source": [
    "file.close()"
   ]
  },
  {
   "cell_type": "markdown",
   "id": "92fffe44",
   "metadata": {},
   "source": [
    "### Q2"
   ]
  },
  {
   "cell_type": "code",
   "execution_count": 1,
   "id": "fbb9aaa7",
   "metadata": {},
   "outputs": [
    {
     "name": "stdout",
     "output_type": "stream",
     "text": [
      "Hi, This is Sania Ghulam Mohiu-ud-Din. I'm currently studing in Punjab University of Information Technology, Lahore.\n",
      "I'm a versatile Graphic Designer providing my services in Google Developer Student Club (GDSC PUCIT), as Graphic Design \n",
      "Lead. Moreover, I've also designation in Blood Donor Society (BDS PUCIT).\n",
      "------------------------------\n",
      "Graphic  repeated 2 times\n",
      "in  repeated 3 times\n"
     ]
    }
   ],
   "source": [
    "def Convert(string):\n",
    "    li = list(string.split(\" \"))\n",
    "    return li\n",
    "\n",
    "with open('summary.txt', \"r\") as file:\n",
    "            count=0\n",
    "            data= file.read()\n",
    "            print(data)\n",
    "            print(\"------------------------------\")\n",
    "\n",
    "            listdata=Convert(data)\n",
    "            for i in set(listdata):\n",
    "                for j in listdata:\n",
    "                    if i==j:\n",
    "                        count +=1\n",
    "                if count > 1:\n",
    "                    print(i, \" repeated\", count, \"times\")\n",
    "                else:\n",
    "                       pass\n",
    "                count=0"
   ]
  },
  {
   "cell_type": "markdown",
   "id": "a234fde4",
   "metadata": {},
   "source": [
    "### Q3"
   ]
  },
  {
   "cell_type": "code",
   "execution_count": 1,
   "id": "97d9f658",
   "metadata": {},
   "outputs": [
    {
     "name": "stdout",
     "output_type": "stream",
     "text": [
      "1 Hi, This is Sania Ghulam Mohiu-ud-Din. I'm currently studing in Punjab University of Information Technology, Lahore.\n",
      "\n",
      "2 I'm a versatile Graphic Designer providing my services in Google Developer Student Club (GDSC PUCIT), as Graphic Design \n",
      "\n",
      "3 Lead. Moreover, I've also designation in Blood Donor Society (BDS PUCIT).\n"
     ]
    }
   ],
   "source": [
    "with open('summary.txt', \"r\") as file:\n",
    "    count=1\n",
    "    for line in file.readlines():\n",
    "        print(count, line)\n",
    "        count +=1"
   ]
  },
  {
   "cell_type": "markdown",
   "id": "d5c68ef1",
   "metadata": {},
   "source": [
    "### Exeption Handling"
   ]
  },
  {
   "cell_type": "markdown",
   "id": "aacf204c",
   "metadata": {},
   "source": [
    "### Q1"
   ]
  },
  {
   "cell_type": "code",
   "execution_count": 14,
   "id": "1cb45e28",
   "metadata": {},
   "outputs": [
    {
     "name": "stdout",
     "output_type": "stream",
     "text": [
      "Enter your required index: 4\n",
      "Index not found in the list\n",
      "Index has been taken!\n"
     ]
    }
   ],
   "source": [
    "l=['A', 'B', 'C', 'D']\n",
    "try:\n",
    "    index= int(input(\"Enter your required index: \"))\n",
    "    print(l[index])\n",
    "except IndexError:\n",
    "    print(\"Index not found in the list\")\n",
    "finally:\n",
    "    print(\"Index has been taken!\")"
   ]
  },
  {
   "cell_type": "code",
   "execution_count": 15,
   "id": "956ad855",
   "metadata": {},
   "outputs": [
    {
     "name": "stdout",
     "output_type": "stream",
     "text": [
      "[Errno 2] No such file or directory: 'abc'\n",
      "The file opening task was run\n"
     ]
    }
   ],
   "source": [
    "try:\n",
    "    with open(\"abc\", \"r\") as f:\n",
    "        for line in f:\n",
    "            print(line)\n",
    "except Exception as e:\n",
    "    print(e)\n",
    "\n",
    "finally:\n",
    "    print(\"The file opening task was run\")"
   ]
  },
  {
   "cell_type": "code",
   "execution_count": null,
   "id": "24bcadd7",
   "metadata": {},
   "outputs": [],
   "source": [
    "#NameError and other exception cases can be deal in the same manner"
   ]
  }
 ],
 "metadata": {
  "kernelspec": {
   "display_name": "Python 3 (ipykernel)",
   "language": "python",
   "name": "python3"
  },
  "language_info": {
   "codemirror_mode": {
    "name": "ipython",
    "version": 3
   },
   "file_extension": ".py",
   "mimetype": "text/x-python",
   "name": "python",
   "nbconvert_exporter": "python",
   "pygments_lexer": "ipython3",
   "version": "3.9.7"
  }
 },
 "nbformat": 4,
 "nbformat_minor": 5
}
