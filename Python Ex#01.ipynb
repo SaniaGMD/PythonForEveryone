{
 "cells": [
  {
   "cell_type": "markdown",
   "metadata": {},
   "source": [
    "# Sources: Python 4 Everybody, and Learning Python\n"
   ]
  },
  {
   "cell_type": "markdown",
   "metadata": {},
   "source": [
    "## Variables, expressions, and statements"
   ]
  },
  {
   "cell_type": "markdown",
   "metadata": {},
   "source": [
    "### Assignmnet # 01"
   ]
  },
  {
   "cell_type": "markdown",
   "metadata": {},
   "source": [
    "### Q1"
   ]
  },
  {
   "cell_type": "code",
   "execution_count": 2,
   "metadata": {
    "cocalc": {
     "outputs": {
      "0": {
       "name": "input",
       "opts": {
        "password": false,
        "prompt": "Enter your name: "
       },
       "output_type": "stream",
       "value": "sania"
      }
     }
    }
   },
   "outputs": [
    {
     "name": "stdout",
     "output_type": "stream",
     "text": [
      "Enter your name: sania\n",
      "Hello! Welcome sania\n"
     ]
    }
   ],
   "source": [
    "name= input(\"Enter your name: \")\n",
    "print(\"Hello! Welcome \" + name)"
   ]
  },
  {
   "cell_type": "markdown",
   "metadata": {},
   "source": [
    "### Q2"
   ]
  },
  {
   "cell_type": "code",
   "execution_count": 3,
   "metadata": {
    "cocalc": {
     "outputs": {
      "0": {
       "name": "input",
       "opts": {
        "password": false,
        "prompt": ""
       },
       "output_type": "stream"
      }
     }
    }
   },
   "outputs": [
    {
     "name": "stdout",
     "output_type": "stream",
     "text": [
      "98\n",
      "Rate per hour: 09\n",
      "Pay: 882\n"
     ]
    }
   ],
   "source": [
    "hours=int(input())\n",
    "rate=float(input(\"Rate per hour: \")) \n",
    "pay= round(hours*rate)\n",
    "print(\"Pay: \"+ str(pay))\n",
    "\n",
    "\n",
    "\n",
    "\n",
    "\n"
   ]
  },
  {
   "cell_type": "markdown",
   "metadata": {},
   "source": [
    "##### Q3"
   ]
  },
  {
   "cell_type": "code",
   "execution_count": 4,
   "metadata": {},
   "outputs": [
    {
     "name": "stdout",
     "output_type": "stream",
     "text": [
      "<class 'int'>\n",
      "<class 'float'>\n",
      "8\n",
      "8.5\n",
      "34\n",
      "8.5\n",
      "4.0\n",
      "11\n"
     ]
    }
   ],
   "source": [
    "width=17\n",
    "height=12.0\n",
    "print(type(width))\n",
    "print(type(height))\n",
    "print(width//2)\n",
    "print(width/2)\n",
    "print(width*2)\n",
    "print(width/2.0)\n",
    "print(height/3)\n",
    "print(1 + 2 * 5)"
   ]
  },
  {
   "cell_type": "markdown",
   "metadata": {},
   "source": [
    "### Q4"
   ]
  },
  {
   "cell_type": "code",
   "execution_count": 5,
   "metadata": {},
   "outputs": [
    {
     "name": "stdout",
     "output_type": "stream",
     "text": [
      "Press 1 - (Celcius-Farenhite) or Press 2 - (Farenhite to Celcius) :  \n"
     ]
    },
    {
     "ename": "ValueError",
     "evalue": "invalid literal for int() with base 10: ''",
     "output_type": "error",
     "traceback": [
      "\u001b[1;31m---------------------------------------------------------------------------\u001b[0m",
      "\u001b[1;31mValueError\u001b[0m                                Traceback (most recent call last)",
      "\u001b[1;32m~\\AppData\\Local\\Temp/ipykernel_11736/3672574454.py\u001b[0m in \u001b[0;36m<module>\u001b[1;34m\u001b[0m\n\u001b[1;32m----> 1\u001b[1;33m \u001b[0mchoice\u001b[0m\u001b[1;33m=\u001b[0m\u001b[0mint\u001b[0m\u001b[1;33m(\u001b[0m\u001b[0minput\u001b[0m\u001b[1;33m(\u001b[0m\u001b[1;34m\"Press 1 - (Celcius-Farenhite) or Press 2 - (Farenhite to Celcius) :  \"\u001b[0m\u001b[1;33m)\u001b[0m\u001b[1;33m)\u001b[0m\u001b[1;33m\u001b[0m\u001b[1;33m\u001b[0m\u001b[0m\n\u001b[0m\u001b[0;32m      2\u001b[0m \u001b[1;33m\u001b[0m\u001b[0m\n\u001b[0;32m      3\u001b[0m \u001b[0mtemp\u001b[0m\u001b[1;33m=\u001b[0m \u001b[0mfloat\u001b[0m\u001b[1;33m(\u001b[0m\u001b[0minput\u001b[0m\u001b[1;33m(\u001b[0m\u001b[1;34m\"Enter the temperature: \"\u001b[0m\u001b[1;33m)\u001b[0m\u001b[1;33m)\u001b[0m\u001b[1;33m\u001b[0m\u001b[1;33m\u001b[0m\u001b[0m\n\u001b[0;32m      4\u001b[0m \u001b[1;32mif\u001b[0m\u001b[1;33m(\u001b[0m\u001b[0mchoice\u001b[0m\u001b[1;33m==\u001b[0m\u001b[1;36m1\u001b[0m\u001b[1;33m)\u001b[0m\u001b[1;33m:\u001b[0m\u001b[1;33m\u001b[0m\u001b[1;33m\u001b[0m\u001b[0m\n\u001b[0;32m      5\u001b[0m     \u001b[0mtemp\u001b[0m\u001b[1;33m=\u001b[0m \u001b[0mfloat\u001b[0m\u001b[1;33m(\u001b[0m\u001b[1;33m(\u001b[0m\u001b[0mtemp\u001b[0m\u001b[1;33m*\u001b[0m\u001b[1;36m1.8\u001b[0m\u001b[1;33m)\u001b[0m\u001b[1;33m+\u001b[0m\u001b[1;36m32\u001b[0m\u001b[1;33m)\u001b[0m\u001b[1;33m\u001b[0m\u001b[1;33m\u001b[0m\u001b[0m\n",
      "\u001b[1;31mValueError\u001b[0m: invalid literal for int() with base 10: ''"
     ]
    }
   ],
   "source": [
    "choice=int(input(\"Press 1 - (Celcius-Farenhite) or Press 2 - (Farenhite to Celcius) :  \"))\n",
    "\n",
    "temp= float(input(\"Enter the temperature: \"))\n",
    "if(choice==1):\n",
    "    temp= float((temp*1.8)+32)\n",
    "    print(\"Temperature in Farenhite is \", temp)\n",
    "if (choice==2):\n",
    "    temp= float((temp-32)/1.8)\n",
    "    print(\"Temperature in Celcius is \", temp)\n",
    "        "
   ]
  },
  {
   "cell_type": "markdown",
   "metadata": {},
   "source": [
    "### Q5\n"
   ]
  },
  {
   "cell_type": "code",
   "execution_count": 0,
   "metadata": {},
   "outputs": [],
   "source": [
    "num=int(input(\"Enter n to check for perfect square: \"))\n",
    "num2 = num//2\n",
    "flaag=0\n",
    "for i in range(num2):\n",
    "    if(i*i==num):\n",
    "        print(\"Perfect Square\")\n",
    "        flaag=1\n",
    "if(flaag==0):\n",
    "    print(\"Not a perfect sqaure\")\n",
    "\n",
    "    "
   ]
  },
  {
   "cell_type": "markdown",
   "metadata": {},
   "source": [
    "### Q6"
   ]
  },
  {
   "cell_type": "code",
   "execution_count": 0,
   "metadata": {},
   "outputs": [],
   "source": [
    "p=int(input(\"Principal amount :\"))\n",
    "t=float(input(\"Total hours: \"))\n",
    "r=float(input(\"Rate of interest: \"))\n",
    "interest=p*t*r\n",
    "print(\"Interest is: \" ,interest)"
   ]
  },
  {
   "cell_type": "markdown",
   "metadata": {},
   "source": [
    "### Q7"
   ]
  },
  {
   "cell_type": "code",
   "execution_count": 0,
   "metadata": {},
   "outputs": [],
   "source": [
    "c1= 9+5j\n",
    "c2= 1+3j\n",
    "print (\"Sum of complex numbers is\", c1+c2)\n",
    "print (\"Difference of complex numbersis\", c1-c2)\n",
    "print (\"Product is\",c1*c2)\n"
   ]
  },
  {
   "cell_type": "markdown",
   "metadata": {},
   "source": [
    "### Q9"
   ]
  },
  {
   "cell_type": "code",
   "execution_count": 0,
   "metadata": {},
   "outputs": [],
   "source": [
    "string=input(\"Enter a string: \")\n",
    "print(string.title())\n",
    "\n",
    "\n"
   ]
  },
  {
   "cell_type": "markdown",
   "metadata": {},
   "source": [
    "### Q10"
   ]
  },
  {
   "cell_type": "code",
   "execution_count": 0,
   "metadata": {},
   "outputs": [],
   "source": [
    "string = 'X-DSPAM-Confidence:0.8475'\n",
    "print(string.find(\":\"))\n",
    "string[19:]"
   ]
  },
  {
   "cell_type": "markdown",
   "metadata": {},
   "source": [
    "### Q11"
   ]
  },
  {
   "cell_type": "code",
   "execution_count": 0,
   "metadata": {},
   "outputs": [],
   "source": [
    "m =\"Welcome to the Course on Data Science.\"\n",
    "y= m.split()\n",
    "print(y)\n",
    "\n",
    "print(m[0:10])\n",
    "\n",
    "z= y[0] +\" \" + y[6]\n",
    "print(z)\n",
    "\n"
   ]
  },
  {
   "cell_type": "markdown",
   "metadata": {},
   "source": [
    "### Q12"
   ]
  },
  {
   "cell_type": "code",
   "execution_count": 34,
   "metadata": {},
   "outputs": [
    {
     "data": {
      "text/plain": [
       "1"
      ]
     },
     "execution_count": 34,
     "metadata": {},
     "output_type": "execute_result"
    }
   ],
   "source": [
    "m =\"Welcome to the Course on Data Science.\"\n",
    "m.count(\"the\")"
   ]
  },
  {
   "cell_type": "markdown",
   "metadata": {},
   "source": [
    "### Q13"
   ]
  },
  {
   "cell_type": "code",
   "execution_count": 0,
   "metadata": {},
   "outputs": [],
   "source": [
    "m =\"I am a student\"\n",
    "y= m.split()\n",
    "\n",
    "print(m[0:2] + m[-2:])\n",
    "\n"
   ]
  },
  {
   "cell_type": "markdown",
   "metadata": {},
   "source": [
    "### Lists"
   ]
  },
  {
   "cell_type": "markdown",
   "metadata": {},
   "source": [
    "### Q1"
   ]
  },
  {
   "cell_type": "code",
   "execution_count": 0,
   "metadata": {},
   "outputs": [],
   "source": [
    "list1= ['P', 'Y', 'T', 'H', 'O', 'N']\n",
    "list1.remove('P')\n",
    "list1.remove('N')\n",
    "print(list1)\n",
    "\n",
    "modified_list= list1"
   ]
  },
  {
   "cell_type": "markdown",
   "metadata": {},
   "source": [
    "### Q2"
   ]
  },
  {
   "cell_type": "code",
   "execution_count": 36,
   "metadata": {},
   "outputs": [
    {
     "name": "stdout",
     "output_type": "stream",
     "text": [
      "apple is Unique\n",
      "1 is Unique\n"
     ]
    }
   ],
   "source": [
    "fruits = ['apple', 'banana', 'guava', 'guava', 'banana',1]\n",
    "\n",
    "for i in fruits:\n",
    "    if(fruits.count(i) == 1 ):\n",
    "        print(i, \"is Unique\")"
   ]
  },
  {
   "cell_type": "markdown",
   "metadata": {},
   "source": [
    "### Q3"
   ]
  },
  {
   "cell_type": "code",
   "execution_count": 0,
   "metadata": {},
   "outputs": [],
   "source": [
    "list3 = [20,0,15,5,10,50]\n",
    "list4 = [40,20,30,50,0]\n",
    "list5 = list3+list4\n",
    "print(list5)\n",
    "sum(list5)"
   ]
  },
  {
   "cell_type": "markdown",
   "metadata": {},
   "source": [
    "### Q4"
   ]
  },
  {
   "cell_type": "code",
   "execution_count": 0,
   "metadata": {},
   "outputs": [],
   "source": [
    "list6 = [90,53,-2,60,1000]\n",
    "\n",
    "print(min(list6))\n",
    "print(max(list6))"
   ]
  },
  {
   "cell_type": "markdown",
   "metadata": {},
   "source": [
    "### Q5"
   ]
  },
  {
   "cell_type": "code",
   "execution_count": 0,
   "metadata": {},
   "outputs": [],
   "source": [
    "list7=[1,0,6,3,9,2,7]\n",
    "print(list7)\n",
    "list8=set(list7)\n",
    "print(list8)"
   ]
  },
  {
   "cell_type": "markdown",
   "metadata": {},
   "source": [
    "### Q6"
   ]
  },
  {
   "cell_type": "code",
   "execution_count": 2,
   "metadata": {},
   "outputs": [
    {
     "name": "stdout",
     "output_type": "stream",
     "text": [
      "Yes, same members are found in both lists\n"
     ]
    }
   ],
   "source": [
    "list1 = set([0,6,9,3,2,1])\n",
    "list2 = set([5,2,4,10,11,3])\n",
    "\n",
    "Intersection_list = list1.intersection(list2)\n",
    "if ( len(Intersection_list) >= 1 ):\n",
    "    print(\"Yes, same members are found in both lists\")"
   ]
  },
  {
   "cell_type": "markdown",
   "metadata": {},
   "source": [
    "### Q7"
   ]
  },
  {
   "cell_type": "code",
   "execution_count": 0,
   "metadata": {},
   "outputs": [],
   "source": [
    "char_list= ['P', 'Y', 'T', 'H', 'O', 'N']\n",
    "print(char_list)\n",
    "str_list = \"\"\n",
    "for i in char_list:\n",
    "    str_list = str_list + i\n",
    "print(str_list)"
   ]
  },
  {
   "cell_type": "markdown",
   "metadata": {},
   "source": [
    "### Q8"
   ]
  },
  {
   "cell_type": "code",
   "execution_count": 0,
   "metadata": {},
   "outputs": [],
   "source": [
    "list1=set([2,5,8,2,1,5,2,88])\n",
    "list2=set([5,2,1,88,8])\n",
    "\n",
    "\n",
    "if (list1==list2):\n",
    "    print(\" Yes identical!\")\n",
    "    \n",
    "else:\n",
    "    print(\"Not identical\")"
   ]
  },
  {
   "cell_type": "markdown",
   "metadata": {},
   "source": [
    "### Q9"
   ]
  },
  {
   "cell_type": "code",
   "execution_count": 0,
   "metadata": {},
   "outputs": [],
   "source": [
    "list1=set([8,5,9,2,0,9])\n",
    "list2=set([8,5,6,7,8,9])\n",
    "list3 = list1.difference(list2)\n",
    "list4 = list2.difference(list1)\n",
    "\n",
    "unique_elements= list3.union(list4)\n",
    "print(unique_elements)"
   ]
  },
  {
   "cell_type": "markdown",
   "metadata": {},
   "source": [
    "### Q10"
   ]
  },
  {
   "cell_type": "code",
   "execution_count": 8,
   "metadata": {},
   "outputs": [
    {
     "name": "stdout",
     "output_type": "stream",
     "text": [
      "[1, 2, 3, 0, 1, 9]\n",
      "1 : 2 times\n",
      "2 : 1 times\n",
      "3 : 1 times\n",
      "0 : 1 times\n",
      "1 : 2 times\n",
      "9 : 1 times\n"
     ]
    }
   ],
   "source": [
    "l1 = [1,2,3,0,1,9]\n",
    "print(l1)\n",
    "l = 0\n",
    "for item in l1:\n",
    "    print (l1[l], ':', l1.count(l1[l]), \"times\")\n",
    "    l += 1\n",
    "   "
   ]
  },
  {
   "cell_type": "markdown",
   "metadata": {},
   "source": [
    "### Q11"
   ]
  },
  {
   "cell_type": "code",
   "execution_count": 14,
   "metadata": {},
   "outputs": [
    {
     "name": "stdout",
     "output_type": "stream",
     "text": [
      "1\n",
      "22232\n"
     ]
    }
   ],
   "source": [
    "l1 = [ [0,1,22222,9], [2,5,88], [10,2,0,3,1,4], [7,8,2,3], [4,2,1,2] ]\n",
    "max = 0\n",
    "num = 0\n",
    "for i in l1:\n",
    "    if ( sum(i) > max):\n",
    "        num = num + 1\n",
    "        max = sum(i)\n",
    "print(num)\n",
    "print(max)"
   ]
  },
  {
   "cell_type": "markdown",
   "metadata": {},
   "source": [
    "### Q12"
   ]
  },
  {
   "cell_type": "code",
   "execution_count": 0,
   "metadata": {},
   "outputs": [],
   "source": [
    "list1 = [\"your\", \"name\", \"?\"]\n",
    "list1.insert( 0 , \"what\")\n",
    "print(list1)"
   ]
  },
  {
   "cell_type": "markdown",
   "metadata": {},
   "source": [
    "### Q13"
   ]
  },
  {
   "cell_type": "code",
   "execution_count": 0,
   "metadata": {},
   "outputs": [],
   "source": [
    "str1 = \"Python\"\n",
    "list1 = []\n",
    "for i in str1:\n",
    "    list1.append(i)\n",
    "print(list1)"
   ]
  },
  {
   "cell_type": "markdown",
   "metadata": {},
   "source": [
    "### Q14"
   ]
  },
  {
   "cell_type": "code",
   "execution_count": 20,
   "metadata": {},
   "outputs": [
    {
     "name": "stdout",
     "output_type": "stream",
     "text": [
      "0 4\n",
      "12 5\n",
      "8 3\n",
      "9 5\n",
      "8 1\n",
      "7 2\n"
     ]
    }
   ],
   "source": [
    "l1= [0,12,8,9,8,7]\n",
    "l2= [4,5,3,5,1,2,3]\n",
    "l3 = []\n",
    "for i in range(len(l1)):\n",
    "    l3 = print(str(l1[i]) + \" \" +str(l2[i]))"
   ]
  },
  {
   "cell_type": "markdown",
   "metadata": {},
   "source": [
    "### Q16"
   ]
  },
  {
   "cell_type": "code",
   "execution_count": 0,
   "metadata": {},
   "outputs": [],
   "source": []
  },
  {
   "cell_type": "markdown",
   "metadata": {},
   "source": [
    "### Tuples"
   ]
  },
  {
   "cell_type": "markdown",
   "metadata": {},
   "source": [
    "### Q1"
   ]
  },
  {
   "cell_type": "code",
   "execution_count": 0,
   "metadata": {},
   "outputs": [],
   "source": [
    "t1 = (1,2,3)\n",
    "print(t1)\n",
    "t2 = ()\n",
    "j=0\n",
    "\n",
    "for i in t1:\n",
    "    t2 = t2 + ((t1[j],),)\n",
    "    j+=1\n",
    "    print(t2)"
   ]
  },
  {
   "cell_type": "markdown",
   "metadata": {},
   "source": [
    "### Q2"
   ]
  },
  {
   "cell_type": "code",
   "execution_count": 37,
   "metadata": {},
   "outputs": [
    {
     "name": "stdout",
     "output_type": "stream",
     "text": [
      "There're  7 elements in the list untill first tuple\n"
     ]
    }
   ],
   "source": [
    "list1 = [4, 2.9,2, 'Hello',5,6,8, (1,2,3), 5.09]\n",
    "l = -1\n",
    "a=0\n",
    "for i in range(len(list1)):\n",
    "    l = l + 1\n",
    "    if (type(list1[l]) == tuple):\n",
    "        break\n",
    "    else:\n",
    "        a +=1\n",
    "print(\"There're \" , a , 'elements in the list untill first tuple')"
   ]
  },
  {
   "cell_type": "markdown",
   "metadata": {},
   "source": [
    "### Q3"
   ]
  },
  {
   "cell_type": "code",
   "execution_count": 0,
   "metadata": {},
   "outputs": [],
   "source": [
    "t1=(0,1,2,3,4,5)\n",
    "t2=(0,1,2,3,4,5)\n",
    "t3=()\n",
    "j=0\n",
    "for i in range(len(t1)):\n",
    "    t3 += (t1[j]+t2[j],)\n",
    "    j+=1\n",
    "print(\"The corresonding sum tuple is: \")\n",
    "print(t3)"
   ]
  },
  {
   "cell_type": "markdown",
   "metadata": {},
   "source": [
    "### Q4"
   ]
  },
  {
   "cell_type": "code",
   "execution_count": 22,
   "metadata": {
    "cocalc": {
     "outputs": {
      "0": {
       "name": "input",
       "opts": {
        "password": false,
        "prompt": "Enter an interger to multiply with the tuple: "
       },
       "output_type": "stream",
       "value": "10"
      }
     }
    }
   },
   "outputs": [
    {
     "name": "stdout",
     "output_type": "stream",
     "text": [
      "Enter an interger to multiply with the tuple:  10(0, 10, 20, 30, 40, 50)\n"
     ]
    }
   ],
   "source": [
    "t1= (0,1,2,3,4,5)\n",
    "j=0\n",
    "t2=()\n",
    "num1= int(input(\"Enter an interger to multiply with the tuple: \"))\n",
    "for i in t1:\n",
    "    t2+=(t1[j]*num1,)\n",
    "    j+=1\n",
    "print(t2)"
   ]
  },
  {
   "cell_type": "markdown",
   "metadata": {},
   "source": [
    "### Sets"
   ]
  },
  {
   "cell_type": "markdown",
   "metadata": {},
   "source": [
    "### Q1"
   ]
  },
  {
   "cell_type": "code",
   "execution_count": 0,
   "metadata": {},
   "outputs": [],
   "source": [
    "set1={0,3,6,8,1,9}\n",
    "num= int(input(\"Enter the number to seach in set:  \"))\n",
    "if num in set1:\n",
    "    print(\"Yes number is in the set\")\n",
    "else:\n",
    "    print(\"Number isn't in the set\")"
   ]
  },
  {
   "cell_type": "markdown",
   "metadata": {},
   "source": [
    "### Q2"
   ]
  },
  {
   "cell_type": "code",
   "execution_count": 0,
   "metadata": {},
   "outputs": [],
   "source": [
    "list1=[0,6,8,4,3,2,0,6,3,7]\n",
    "list2= set(list1)\n",
    "print(list2)\n",
    "\n"
   ]
  },
  {
   "cell_type": "markdown",
   "metadata": {},
   "source": [
    "### Q3"
   ]
  },
  {
   "cell_type": "code",
   "execution_count": 39,
   "metadata": {},
   "outputs": [
    {
     "name": "stdout",
     "output_type": "stream",
     "text": [
      "Checking in accordance of list1: \n",
      "Same\n",
      "Not same\n",
      "Not same\n"
     ]
    }
   ],
   "source": [
    "list1=['3.20.2', '3.26.1', '2.29.1']\n",
    "list2=['3.20.9', '3.20.2', '2.29.15']\n",
    "i=0\n",
    "print(\"Checking in accordance of list1: \")\n",
    "for i in range (len(list1)):\n",
    "    if list1[i] in list2:\n",
    "        print(\"Same\")\n",
    "        i+=1\n",
    "    else:\n",
    "        print(\"Not same\")\n",
    "        i+=1"
   ]
  },
  {
   "cell_type": "markdown",
   "metadata": {},
   "source": [
    "### Dictioneries"
   ]
  },
  {
   "cell_type": "markdown",
   "metadata": {},
   "source": [
    "### Q1"
   ]
  },
  {
   "cell_type": "code",
   "execution_count": 40,
   "metadata": {},
   "outputs": [
    {
     "name": "stdout",
     "output_type": "stream",
     "text": [
      "dict_keys(['501', '502', '503', '504'])\n",
      "dict_values([90, 80, 95, 48])\n",
      "90  , 48\n"
     ]
    }
   ],
   "source": [
    "data= {'501': 90, '502': 80, '503': 95, '504': 48}\n",
    "print(data.keys())\n",
    "print(data.values())\n",
    "print(data['501'],\" ,\", data['504'] )"
   ]
  },
  {
   "cell_type": "markdown",
   "metadata": {},
   "source": [
    "### Q2"
   ]
  },
  {
   "cell_type": "code",
   "execution_count": 0,
   "metadata": {},
   "outputs": [],
   "source": [
    "comm = {\n",
    "'chair' : 10,\n",
    "'table' : 22,\n",
    "'sofa-set': 2,\n",
    "'tv-unit': 0,\n",
    "'fan': 10,\n",
    "'table-lamp': 0,\n",
    "'iron-box': 0,\n",
    "'bed': 30\n",
    "}\n",
    "\n",
    "price = {\n",
    "'chair': 2365,\n",
    "'table': 37752,\n",
    "'sofa-set': 23299,\n",
    "'tv-unit': 120344,\n",
    "'bed': 40226,\n",
    " 'fan': 2000\n",
    "}\n",
    "\n",
    "\n",
    "\n",
    "#1. Evaluate the income made by the shop owner.\n",
    "#2. If user enters a commodity that is not available in the shop, display appropriate message.\n",
    "#3. If user enters a quantity that is beyond the available limit, display the size of the inventory.\n",
    "#4. Display the inventory available.\n",
    "\n",
    "\n",
    "while True:\n",
    "    print(\"              -------------------                 \")\n",
    "    data= input(\"Enter your desired item: \")\n",
    "    if data == \"quit\": \n",
    "        print(\"******************************************\")\n",
    "        print(\"        Thank You For Shopping!\")\n",
    "        break\n",
    "    if(data in comm.keys()):\n",
    "        print(\"Item is available.\")\n",
    "        \n",
    "        quantity= int(input(\"Enter the no of items you want: \"))\n",
    "        if(quantity<= comm[data]):\n",
    "            print(\"item is in stock!\")\n",
    "            bill= quantity*price[data]\n",
    "           \n",
    "        else:\n",
    "            print(\"Sorry! Item is out of stock!\")\n",
    "    else:\n",
    "        print(\"Sorry, this Item isn't available.\")\n",
    "        \n",
    "print(\"******************************************\")\n",
    "if(bill!=0):\n",
    "    print(\" Your total bill is: \", bill, \"/-\")"
   ]
  }
 ],
 "metadata": {
  "kernelspec": {
   "display_name": "Python 3 (ipykernel)",
   "language": "python",
   "name": "python3"
  },
  "language_info": {
   "codemirror_mode": {
    "name": "ipython",
    "version": 3
   },
   "file_extension": ".py",
   "mimetype": "text/x-python",
   "name": "python",
   "nbconvert_exporter": "python",
   "pygments_lexer": "ipython3",
   "version": "3.9.7"
  }
 },
 "nbformat": 4,
 "nbformat_minor": 4
}
